{
 "cells": [
  {
   "cell_type": "markdown",
   "metadata": {},
   "source": [
    "<table style=\"background-color: transparent;\">\n",
    "    <tr style=\"background-color: transparent; text-align:center;\">\n",
    "        <td width=\"100%\" align=\"center\"><font size=\"7\" color=\"#f25625\">Computación Cuántica</font></td>\n",
    "    </tr>\n",
    "    <tr style=\"background-color: transparent; text-align:center;\">\n",
    "        <td width=\"100%\"><font size=\"4\" color=\"black\">Temas Selectos de Ingeniería en Computación III</font></td>\n",
    "    </tr>\n",
    "    <tr style=\"background-color: transparent; text-align:center;\">\n",
    "        <td width=\"100%\"><font size=\"4\" color=\"black\">2025-1</font></td>\n",
    "    </tr>\n",
    "    <tr style=\"background-color: transparent; text-align:center;\">\n",
    "        <td width=\"100%\"><font size=\"6\" color=\"#f25625\">Práctica 1</font></td>\n",
    "    </tr>\n",
    "</table>"
   ]
  },
  {
   "cell_type": "markdown",
   "metadata": {},
   "source": [
    "<p style=\"text-align:right; font-weight:bold;\">Autor: Rodrigo Gael Guzmán Alburo</p>\n",
    "\n",
    "$ \\newcommand{\\bra}[1]{\\langle #1|} $\n",
    "$ \\newcommand{\\ket}[1]{|#1\\rangle} $\n",
    "$ \\newcommand{\\braket}[2]{\\langle #1|#2\\rangle} $\n",
    "$ \\newcommand{\\mymatrix}[2]{\\left[ \\begin{array}{#1} #2\\end{array} \\right]} $\n",
    "$ \\newcommand{\\myvector}[1]{\\mymatrix{c}{#1}} $"
   ]
  },
  {
   "cell_type": "markdown",
   "metadata": {},
   "source": [
    "<a id=\"1\"></a>\n",
    "# 1. Ejercicio 1"
   ]
  },
  {
   "cell_type": "markdown",
   "metadata": {},
   "source": [
    "**1. Crea un circuito cuántico con un solo qubit y aplícale 5 compuertas diferentes:**"
   ]
  },
  {
   "cell_type": "markdown",
   "metadata": {},
   "source": [
    "Se genera el circuito con un solo qubit"
   ]
  },
  {
   "cell_type": "code",
   "execution_count": 45,
   "metadata": {},
   "outputs": [
    {
     "name": "stdout",
     "output_type": "stream",
     "text": [
      "1- Estado inicial:\n",
      "\t- En forma de vector:\n"
     ]
    },
    {
     "data": {
      "text/latex": [
       "$$\n",
       "\n",
       "\\begin{bmatrix}\n",
       "1 & 0  \\\\\n",
       " \\end{bmatrix}\n",
       "$$"
      ],
      "text/plain": [
       "<IPython.core.display.Latex object>"
      ]
     },
     "metadata": {},
     "output_type": "display_data"
    },
    {
     "name": "stdout",
     "output_type": "stream",
     "text": [
      "\t- En forma de ket:\n"
     ]
    },
    {
     "data": {
      "text/latex": [
       "$$ |0\\rangle$$"
      ],
      "text/plain": [
       "<IPython.core.display.Latex object>"
      ]
     },
     "metadata": {},
     "output_type": "display_data"
    }
   ],
   "source": [
    "from qiskit import QuantumCircuit\n",
    "from qiskit.quantum_info import Statevector\n",
    "from qiskit.visualization import array_to_latex\n",
    "\n",
    "circuito = QuantumCircuit(1) # Creación de un circuito cuántico con un qubit\n",
    "psi_0 = Statevector(circuito) # Medicion del estado del circuito\n",
    "\n",
    "print(\"1- Estado inicial:\")\n",
    "print(\"\\t- En forma de vector:\")\n",
    "display(array_to_latex(psi_0.data))\n",
    "print(\"\\t- En forma de ket:\")\n",
    "display(psi_0.draw(\"latex\"))"
   ]
  },
  {
   "cell_type": "markdown",
   "metadata": {},
   "source": [
    "Se le aplica al qubit la compuerta H al qubit. Esto genera el siguiente comportamiento:\n",
    "$$H\\ket{0}=\\mymatrix{r}{ \\frac{1}{\\sqrt{2}} \\\\ \\frac{1}{\\sqrt{2}} }=\\ket{+}$$"
   ]
  },
  {
   "cell_type": "code",
   "execution_count": 46,
   "metadata": {},
   "outputs": [
    {
     "name": "stdout",
     "output_type": "stream",
     "text": [
      "2- Estado después de aplicar la compuerta H:\n",
      "\t- En forma de vector:\n"
     ]
    },
    {
     "data": {
      "text/latex": [
       "$$\n",
       "\n",
       "\\begin{bmatrix}\n",
       "\\frac{\\sqrt{2}}{2} & \\frac{\\sqrt{2}}{2}  \\\\\n",
       " \\end{bmatrix}\n",
       "$$"
      ],
      "text/plain": [
       "<IPython.core.display.Latex object>"
      ]
     },
     "metadata": {},
     "output_type": "display_data"
    },
    {
     "name": "stdout",
     "output_type": "stream",
     "text": [
      "\t- En forma de ket:\n"
     ]
    },
    {
     "data": {
      "text/latex": [
       "$$\\frac{\\sqrt{2}}{2} |0\\rangle+\\frac{\\sqrt{2}}{2} |1\\rangle$$"
      ],
      "text/plain": [
       "<IPython.core.display.Latex object>"
      ]
     },
     "metadata": {},
     "output_type": "display_data"
    }
   ],
   "source": [
    "circuito.h(0)\n",
    "psi_1 = Statevector(circuito)\n",
    "\n",
    "print(\"2- Estado después de aplicar la compuerta H:\")\n",
    "print(\"\\t- En forma de vector:\")\n",
    "display(array_to_latex(psi_1.data))\n",
    "print(\"\\t- En forma de ket:\")\n",
    "display(psi_1.draw(\"latex\"))"
   ]
  },
  {
   "cell_type": "markdown",
   "metadata": {},
   "source": [
    "La segunda compuerta que se le aplica al qubit es la compuerta X. Esto genera el siguiente comportamiento:\n",
    "$$X\\ket{+}=\\mymatrix{rr}{ 0 & 1 \\\\ 1 & 0 } \\mymatrix{r}{\\frac{1}{\\sqrt{2}} \\\\ \\frac{1}{\\sqrt{2}}}=\\mymatrix{r}{\\frac{1}{\\sqrt{2}} \\\\ \\frac{1}{\\sqrt{2}}}=\\ket{+}$$"
   ]
  },
  {
   "cell_type": "code",
   "execution_count": 47,
   "metadata": {},
   "outputs": [
    {
     "name": "stdout",
     "output_type": "stream",
     "text": [
      "3- Estado después de aplicar la compuerta X:\n",
      "\t- En forma de vector:\n"
     ]
    },
    {
     "data": {
      "text/latex": [
       "$$\n",
       "\n",
       "\\begin{bmatrix}\n",
       "\\frac{\\sqrt{2}}{2} & \\frac{\\sqrt{2}}{2}  \\\\\n",
       " \\end{bmatrix}\n",
       "$$"
      ],
      "text/plain": [
       "<IPython.core.display.Latex object>"
      ]
     },
     "metadata": {},
     "output_type": "display_data"
    },
    {
     "name": "stdout",
     "output_type": "stream",
     "text": [
      "\t- En forma de ket:\n"
     ]
    },
    {
     "data": {
      "text/latex": [
       "$$\\frac{\\sqrt{2}}{2} |0\\rangle+\\frac{\\sqrt{2}}{2} |1\\rangle$$"
      ],
      "text/plain": [
       "<IPython.core.display.Latex object>"
      ]
     },
     "metadata": {},
     "output_type": "display_data"
    }
   ],
   "source": [
    "circuito.x(0)\n",
    "psi_2 = Statevector(circuito)\n",
    "print(\"3- Estado después de aplicar la compuerta X:\")\n",
    "print(\"\\t- En forma de vector:\")\n",
    "display(array_to_latex(psi_2.data))\n",
    "print(\"\\t- En forma de ket:\")\n",
    "display(psi_2.draw(\"latex\"))"
   ]
  },
  {
   "cell_type": "markdown",
   "metadata": {},
   "source": [
    "La tercera compuerta que se le aplica al qubit es la compuerta Y. Esto genera el siguiente comportamiento:\n",
    "$$Y\\ket{+}=\\mymatrix{rr}{ 0 & -i \\\\ i & 0 } \\mymatrix{r}{\\frac{1}{\\sqrt{2}} \\\\ \\frac{1}{\\sqrt{2}}}=\\mymatrix{r}{-\\frac{i}{\\sqrt{2}} \\\\ \\frac{i}{\\sqrt{2}}}=-i\\mymatrix{r}{\\frac{1}{\\sqrt{2}} \\\\ -\\frac{1}{\\sqrt{2}}} = -i\\ket{-}$$"
   ]
  },
  {
   "cell_type": "code",
   "execution_count": 48,
   "metadata": {},
   "outputs": [
    {
     "name": "stdout",
     "output_type": "stream",
     "text": [
      "4- Estado después de aplicar la compuerta Y:\n",
      "\t- En forma de vector:\n"
     ]
    },
    {
     "data": {
      "text/latex": [
       "$$\n",
       "\n",
       "\\begin{bmatrix}\n",
       "- \\frac{\\sqrt{2} i}{2} & \\frac{\\sqrt{2} i}{2}  \\\\\n",
       " \\end{bmatrix}\n",
       "$$"
      ],
      "text/plain": [
       "<IPython.core.display.Latex object>"
      ]
     },
     "metadata": {},
     "output_type": "display_data"
    },
    {
     "name": "stdout",
     "output_type": "stream",
     "text": [
      "\t- En forma de ket:\n"
     ]
    },
    {
     "data": {
      "text/latex": [
       "$$- \\frac{\\sqrt{2} i}{2} |0\\rangle+\\frac{\\sqrt{2} i}{2} |1\\rangle$$"
      ],
      "text/plain": [
       "<IPython.core.display.Latex object>"
      ]
     },
     "metadata": {},
     "output_type": "display_data"
    }
   ],
   "source": [
    "circuito.y(0)\n",
    "psi_3 = Statevector(circuito)\n",
    "\n",
    "print(\"4- Estado después de aplicar la compuerta Y:\")\n",
    "print(\"\\t- En forma de vector:\")\n",
    "display(array_to_latex(psi_3.data))\n",
    "print(\"\\t- En forma de ket:\")\n",
    "display(psi_3.draw(\"latex\"))"
   ]
  },
  {
   "cell_type": "markdown",
   "metadata": {},
   "source": [
    "La cuarta compuerta que se le aplica al qubit es la compuerta Z. Esto genera el siguiente comportamiento:\n",
    "$$Z(-i\\ket{-})=-iZ\\ket{-}=-i\\mymatrix{rr}{ 1 & 0 \\\\ 0 & -1 } \\mymatrix{r}{\\frac{1}{\\sqrt{2}} \\\\ -\\frac{1}{\\sqrt{2}}}=-i\\mymatrix{r}{\\frac{1}{\\sqrt{2}} \\\\ \\frac{1}{\\sqrt{2}}}=-i\\ket{+}$$"
   ]
  },
  {
   "cell_type": "code",
   "execution_count": 49,
   "metadata": {},
   "outputs": [
    {
     "name": "stdout",
     "output_type": "stream",
     "text": [
      "5- Estado después de aplicar la compuerta Z:\n",
      "\t- En forma de vector:\n"
     ]
    },
    {
     "data": {
      "text/latex": [
       "$$\n",
       "\n",
       "\\begin{bmatrix}\n",
       "- \\frac{\\sqrt{2} i}{2} & - \\frac{\\sqrt{2} i}{2}  \\\\\n",
       " \\end{bmatrix}\n",
       "$$"
      ],
      "text/plain": [
       "<IPython.core.display.Latex object>"
      ]
     },
     "metadata": {},
     "output_type": "display_data"
    },
    {
     "name": "stdout",
     "output_type": "stream",
     "text": [
      "\t- En forma de ket:\n"
     ]
    },
    {
     "data": {
      "text/latex": [
       "$$- \\frac{\\sqrt{2} i}{2} |0\\rangle- \\frac{\\sqrt{2} i}{2} |1\\rangle$$"
      ],
      "text/plain": [
       "<IPython.core.display.Latex object>"
      ]
     },
     "metadata": {},
     "output_type": "display_data"
    }
   ],
   "source": [
    "circuito.z(0)\n",
    "psi_4 = Statevector(circuito)\n",
    "\n",
    "print(\"5- Estado después de aplicar la compuerta Z:\")\n",
    "print(\"\\t- En forma de vector:\")\n",
    "display(array_to_latex(psi_4.data))\n",
    "print(\"\\t- En forma de ket:\")\n",
    "display(psi_4.draw(\"latex\"))"
   ]
  },
  {
   "cell_type": "markdown",
   "metadata": {},
   "source": [
    "La quinta, y última, compuerta que se le aplica al qubit es la compuerta H. Esto genera el siguiente comportamiento:\n",
    "$$H(-i\\ket{+})=-iH\\ket{+}=-i \\frac{1}{\\sqrt{2}} \\mymatrix{rr}{ 1 & 1 \\\\ 1 & -1 } \\frac{1}{\\sqrt{2}} \\mymatrix{r}{1 \\\\ 1}=-\\frac{i}{2}\\mymatrix{r}{2 \\\\ 0}=-i \\mymatrix{r}{1 \\\\ 0}=-i\\ket{0}$$"
   ]
  },
  {
   "cell_type": "code",
   "execution_count": 50,
   "metadata": {},
   "outputs": [
    {
     "name": "stdout",
     "output_type": "stream",
     "text": [
      "6- Estado después de aplicar la compuerta H:\n",
      "\t- En forma de vector:\n"
     ]
    },
    {
     "data": {
      "text/latex": [
       "$$\n",
       "\n",
       "\\begin{bmatrix}\n",
       "- i & 0  \\\\\n",
       " \\end{bmatrix}\n",
       "$$"
      ],
      "text/plain": [
       "<IPython.core.display.Latex object>"
      ]
     },
     "metadata": {},
     "output_type": "display_data"
    },
    {
     "name": "stdout",
     "output_type": "stream",
     "text": [
      "\t- En forma de ket:\n"
     ]
    },
    {
     "data": {
      "text/latex": [
       "$$- i |0\\rangle$$"
      ],
      "text/plain": [
       "<IPython.core.display.Latex object>"
      ]
     },
     "metadata": {},
     "output_type": "display_data"
    }
   ],
   "source": [
    "circuito.h(0)\n",
    "psi_5 = Statevector(circuito)\n",
    "\n",
    "print(\"6- Estado después de aplicar la compuerta H:\")\n",
    "print(\"\\t- En forma de vector:\")\n",
    "display(array_to_latex(psi_5.data))\n",
    "print(\"\\t- En forma de ket:\")\n",
    "display(psi_5.draw(\"latex\"))"
   ]
  },
  {
   "cell_type": "markdown",
   "metadata": {},
   "source": [
    "El circuito que se aplicó al qubit es el siguiente:"
   ]
  },
  {
   "cell_type": "code",
   "execution_count": 51,
   "metadata": {},
   "outputs": [
    {
     "data": {
      "image/png": "[encoded data removed]",
      "text/plain": [
       "<Figure size 519.897x117.056 with 1 Axes>"
      ]
     },
     "metadata": {},
     "output_type": "display_data"
    }
   ],
   "source": [
    "display(circuito.draw(\"mpl\"))"
   ]
  },
  {
   "cell_type": "markdown",
   "metadata": {},
   "source": [
    "La expresión matemática de la aplicación de las cinco compuertas al qubit es la siguiente:\n",
    "$$HZYXH\\ket{0}=-i\\ket{0}$$"
   ]
  },
  {
   "cell_type": "markdown",
   "metadata": {},
   "source": [
    "**a. Revisa la segunda celda de este notebook, ¿hay algo útil ahí?.**\n",
    "\n",
    "En la segunda celda del notebook del laboratorio se encuentra:\n",
    "- Markdown con el autor del notebook\n",
    "- Y lo importante, la creación de comandos de LaTeX para facilitar la escritura de las ecuaciones matemáticas\n",
    "    - En este caso, se crearon los comandos para las notaciones de bra, ket, braket, mapeo de matrices y vectores"
   ]
  },
  {
   "cell_type": "markdown",
   "metadata": {},
   "source": [
    "<a id=\"2\"></a>\n",
    "# 2. Ejercicio 2"
   ]
  },
  {
   "cell_type": "markdown",
   "metadata": {},
   "source": [
    "**2. Crear una cuenta en la IBM Quantum Platform:**"
   ]
  },
  {
   "cell_type": "markdown",
   "metadata": {},
   "source": [
    "![title](img/ibm_dashboard.png)"
   ]
  },
  {
   "cell_type": "markdown",
   "metadata": {},
   "source": [
    "<a id=\"3\"></a>\n",
    "# 3. Ejercicio 3"
   ]
  },
  {
   "cell_type": "markdown",
   "metadata": {},
   "source": [
    "**Crea un circuito cuántico en el IBM Quantum Composer**"
   ]
  },
  {
   "cell_type": "markdown",
   "metadata": {},
   "source": [
    "Para este ejercicio se creó el siguiente circuito cuántico en el simulador"
   ]
  },
  {
   "cell_type": "markdown",
   "metadata": {},
   "source": [
    "![title](img/ibm_simulation.png)"
   ]
  },
  {
   "cell_type": "markdown",
   "metadata": {},
   "source": [
    "Dentro de la herramienta de simulación IBM Quantum Composer se pueden observar distintas funcionalidades, como la de agregar compuertas cuánticas, medir el estado de los qubits y visualizar el circuito cuántico. Ademas en la parte derecha se observa una sección de código que representa el circuito cuántico que se está creando en Qiskit o en OpenQASM.\n",
    "\n",
    "El funcionamiento del simulador es muy sencillo e intuitivo, ya que solo se necesita arrastrar las compuertas cuánticas al circuito y se pueden visualizar los cambios que se generan en el qubit. Además, se pueden agregar compuertas de medición para observar el estado del qubit y como esto afecta a la visualización del circuito cuántico.\n",
    "\n",
    "Otro aspecto que me pareció interesante es que hay una gran cantidad de material de apoyo para aprender a utilizar la herramienta, como tutoriales, documentación y ejemplos de circuitos cuánticos."
   ]
  }
 ],
 "metadata": {
  "kernelspec": {
   "display_name": "Python 3 (ipykernel)",
   "language": "python",
   "name": "python3"
  },
  "language_info": {
   "codemirror_mode": {
    "name": "ipython",
    "version": 3
   },
   "file_extension": ".py",
   "mimetype": "text/x-python",
   "name": "python",
   "nbconvert_exporter": "python",
   "pygments_lexer": "ipython3",
   "version": "3.13.2"
  }
 },
 "nbformat": 4,
 "nbformat_minor": 4
}
